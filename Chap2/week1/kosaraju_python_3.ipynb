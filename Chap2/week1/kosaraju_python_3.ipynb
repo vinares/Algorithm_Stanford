{
 "cells": [
  {
   "cell_type": "code",
   "execution_count": 44,
   "metadata": {
    "collapsed": true
   },
   "outputs": [],
   "source": [
    "def graph_build(edges, reverse):\n",
    "    graph = {}\n",
    "    first_index = 1 if reverse else 0\n",
    "    second_index = 0 if reverse else 1\n",
    "\n",
    "    for edge in edges:\n",
    "        if edge[first_index] not in graph:\n",
    "            graph[edge[first_index]] = [0, False, []]\n",
    "\n",
    "    for edge in edges:\n",
    "        if edge[second_index] not in graph:\n",
    "            graph[edge[second_index]] = [0, False, []]\n",
    "\n",
    "    for edge in edges:\n",
    "        graph[edge[first_index]][2].append(edge[second_index])\n",
    "\n",
    "    return graph"
   ]
  },
  {
   "cell_type": "code",
   "execution_count": 45,
   "metadata": {
    "collapsed": false
   },
   "outputs": [],
   "source": [
    "t = 0  \n",
    "\n",
    "def DFSrev(graph, node):\n",
    "\n",
    "    global t\n",
    "    graph[node][1] = True\n",
    "\n",
    "    for arc in graph[node][2]:\n",
    "        if not graph[arc][1]:\n",
    "            DFSrev(graph, arc)\n",
    "\n",
    "    t += 1\n",
    "    graph[node][0] = t\n",
    "\n",
    "    return graph"
   ]
  },
  {
   "cell_type": "code",
   "execution_count": 46,
   "metadata": {
    "collapsed": true
   },
   "outputs": [],
   "source": [
    "def First_Pass(graph):\n",
    "    keys = list(graph.keys())\n",
    "    keys = sorted(keys, reverse=True)\n",
    "\n",
    "    for i in keys:\n",
    "\n",
    "        if not graph[i][1]:\n",
    "            graph = DFSrev(graph, i)\n",
    "\n",
    "    return graph\n"
   ]
  },
  {
   "cell_type": "code",
   "execution_count": 47,
   "metadata": {
    "collapsed": false
   },
   "outputs": [],
   "source": [
    "def edge_array_w_finishing_times(rev_graph_w_fin_times, edges):\n",
    "\n",
    "    new_edges = []\n",
    "\n",
    "    for edge in edges:\n",
    "        start = edge[0]\n",
    "        end = edge[1]\n",
    "        new_edges.append((rev_graph_w_fin_times[start][0], rev_graph_w_fin_times[end][0]))\n",
    "        \n",
    "    return new_edges"
   ]
  },
  {
   "cell_type": "code",
   "execution_count": 48,
   "metadata": {
    "collapsed": true
   },
   "outputs": [],
   "source": [
    "def DFS(graph, node, s):\n",
    "    graph[node][1] = True\n",
    "    graph[node][0] = s\n",
    "    for arc in graph[node][2]:\n",
    "        if not graph[arc][1]:\n",
    "            DFS(graph, arc, s)\n",
    "\n",
    "    return graph"
   ]
  },
  {
   "cell_type": "code",
   "execution_count": 49,
   "metadata": {
    "collapsed": true
   },
   "outputs": [],
   "source": [
    "def Second_Pass(graph):\n",
    "    leaders = []\n",
    "    keys = list(graph.keys())\n",
    "    keys.sort()\n",
    "    keys.reverse()\n",
    "\n",
    "    for i in keys:\n",
    "\n",
    "        if not graph[i][1]:\n",
    "            s = i\n",
    "            leaders.append(s)\n",
    "            graph = DFS(graph, i, s)\n",
    "\n",
    "    return graph, leaders"
   ]
  },
  {
   "cell_type": "code",
   "execution_count": 50,
   "metadata": {
    "collapsed": false
   },
   "outputs": [],
   "source": [
    "example = [(1,3),(3,2),(2,1),(4,2),(9,4),(13,4),(6,9),(5,6),(9,5),(7,9),(13,12),(12,7),(7,11),(11,10),(10,8),(8,7)]\n",
    "\n",
    "rev_graph = graph_build(example, True)\n",
    "\n",
    "find_finish_times = First_Pass(rev_graph)\n",
    "\n",
    "new_edges = edge_array_w_finishing_times(find_finish_times, example)      # If you run anything more than once,\n",
    "                                                                          # these numbers may be off because t is \n",
    "                                                                          # a global variable and will assign higher finishing\n",
    "                                                                          # times as a result\n",
    "graph_with_f_times = graph_build(new_edges, False)\n",
    "\n",
    "final_graph, leaders = Second_Pass(graph_with_f_times)"
   ]
  },
  {
   "cell_type": "code",
   "execution_count": 51,
   "metadata": {
    "collapsed": false
   },
   "outputs": [
    {
     "data": {
      "text/plain": [
       "{1: [1, True, [10, 2]],\n",
       " 2: [2, True, [5]],\n",
       " 3: [6, True, [4]],\n",
       " 4: [6, True, [5]],\n",
       " 5: [6, True, [9, 6]],\n",
       " 6: [6, True, [3]],\n",
       " 7: [9, True, [8]],\n",
       " 8: [9, True, [9]],\n",
       " 9: [9, True, [10, 7]],\n",
       " 10: [10, True, [11]],\n",
       " 11: [13, True, [12]],\n",
       " 12: [13, True, [13]],\n",
       " 13: [13, True, [11]]}"
      ]
     },
     "execution_count": 51,
     "metadata": {},
     "output_type": "execute_result"
    }
   ],
   "source": [
    "final_graph"
   ]
  },
  {
   "cell_type": "code",
   "execution_count": null,
   "metadata": {
    "collapsed": true
   },
   "outputs": [],
   "source": []
  }
 ],
 "metadata": {
  "kernelspec": {
   "display_name": "Python [Root]",
   "language": "python",
   "name": "Python [Root]"
  },
  "language_info": {
   "codemirror_mode": {
    "name": "ipython",
    "version": 3
   },
   "file_extension": ".py",
   "mimetype": "text/x-python",
   "name": "python",
   "nbconvert_exporter": "python",
   "pygments_lexer": "ipython3",
   "version": "3.5.1"
  }
 },
 "nbformat": 4,
 "nbformat_minor": 0
}
